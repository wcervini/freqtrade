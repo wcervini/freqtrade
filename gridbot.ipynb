{
 "cells": [
  {
   "cell_type": "code",
   "execution_count": null,
   "metadata": {},
   "outputs": [],
   "source": [
    "import backtrader as bt\n",
    "\n",
    "from __future__ import (absolute_import, division,print_function,unicode_literals)\n",
    "\n",
    "if __name__ == \"__main__\":\n",
    "    cerebro = bt.Cerebro()\n",
    "    cerebro.broker.setcash(1000)\n",
    "    \n"
   ]
  }
 ],
 "metadata": {
  "kernelspec": {
   "display_name": "Python 3.9.2 ('venv': venv)",
   "language": "python",
   "name": "python3"
  },
  "language_info": {
   "name": "python",
   "version": "3.9.2"
  },
  "orig_nbformat": 4,
  "vscode": {
   "interpreter": {
    "hash": "cf9b352c0b4292d861b440dbd1e2316c0a40d5da623c6e0374adc65ec5fef69f"
   }
  }
 },
 "nbformat": 4,
 "nbformat_minor": 2
}
